{
  "cells": [
    {
      "cell_type": "code",
      "execution_count": null,
      "id": "b7a40cd6",
      "metadata": {
        "colab": {
          "base_uri": "https://localhost:8080/"
        },
        "id": "b7a40cd6",
        "outputId": "d1dea08e-e6c6-47d5-dc68-7449272fd7c7"
      },
      "outputs": [
        {
          "output_type": "stream",
          "name": "stdout",
          "text": [
            ">Hi there!\n",
            "None\n",
            ">What is your name?\n",
            "My name is Chatbot.\n"
          ]
        }
      ],
      "source": [
        "import nltk\n",
        "from nltk.chat.util import Chat, reflections\n",
        "\n",
        "input_output_patterns = [\n",
        "    (r'Hi there!', ['Hello!']),\n",
        "    (r'How are you?', ['I am doing well, thank you. How are you?']),\n",
        "    (r'What is your name?', ['My name is Chatbot.']),\n",
        "    (r'Quit|Bye|Thank you', ['Goodbye!', 'Bye! Nice talking to you.'])\n",
        "]\n",
        "\n",
        "chatbot = Chat(input_output_patterns, reflections)\n",
        "\n",
        "chatbot.converse()\n"
      ]
    },
    {
      "cell_type": "code",
      "source": [],
      "metadata": {
        "id": "8o7sID7V7XHX"
      },
      "id": "8o7sID7V7XHX",
      "execution_count": null,
      "outputs": []
    }
  ],
  "metadata": {
    "colab": {
      "provenance": []
    },
    "language_info": {
      "name": "python"
    },
    "kernelspec": {
      "name": "python3",
      "display_name": "Python 3"
    }
  },
  "nbformat": 4,
  "nbformat_minor": 5
}
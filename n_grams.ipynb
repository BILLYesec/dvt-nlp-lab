{
  "cells": [
    {
      "cell_type": "code",
      "execution_count": 4,
      "id": "b7a40cd6",
      "metadata": {
        "colab": {
          "base_uri": "https://localhost:8080/"
        },
        "id": "b7a40cd6",
        "outputId": "51edcbf8-7c95-4e52-a1d5-563b4acd3e83"
      },
      "outputs": [
        {
          "output_type": "stream",
          "name": "stdout",
          "text": [
            "Bi-gram: [('This', 'My'), ('My', 'laptop'), ('laptop', \"it's\"), (\"it's\", 'very'), ('very', 'comfortable'), ('comfortable', 'for'), ('for', 'me')]\n",
            "Tri-gram: [('This', 'My', 'laptop'), ('My', 'laptop', \"it's\"), ('laptop', \"it's\", 'very'), (\"it's\", 'very', 'comfortable'), ('very', 'comfortable', 'for'), ('comfortable', 'for', 'me')]\n"
          ]
        }
      ],
      "source": [
        "from nltk.util import ngrams\n",
        "\n",
        "s = \"This My laptop it's very comfortable for me\"\n",
        "w = s.split()\n",
        "\n",
        "bi_gram = list(ngrams(w, 2))\n",
        "tri_gram = list(ngrams(w, 3))\n",
        "\n",
        "print(\"Bi-gram:\", bi_gram)\n",
        "print(\"Tri-gram:\", tri_gram)\n"
      ]
    },
    {
      "cell_type": "code",
      "source": [],
      "metadata": {
        "id": "8o7sID7V7XHX"
      },
      "id": "8o7sID7V7XHX",
      "execution_count": null,
      "outputs": []
    }
  ],
  "metadata": {
    "colab": {
      "provenance": []
    },
    "language_info": {
      "name": "python"
    },
    "kernelspec": {
      "name": "python3",
      "display_name": "Python 3"
    }
  },
  "nbformat": 4,
  "nbformat_minor": 5
}
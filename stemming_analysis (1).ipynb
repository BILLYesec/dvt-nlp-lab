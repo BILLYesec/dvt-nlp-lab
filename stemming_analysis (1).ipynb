{
  "cells": [
    {
      "cell_type": "code",
      "execution_count": 3,
      "id": "b7a40cd6",
      "metadata": {
        "colab": {
          "base_uri": "https://localhost:8080/"
        },
        "id": "b7a40cd6",
        "outputId": "9a273b20-fe12-4ce4-aff3-21c2117e4044"
      },
      "outputs": [
        {
          "output_type": "stream",
          "name": "stderr",
          "text": [
            "[nltk_data] Downloading package punkt_tab to /root/nltk_data...\n",
            "[nltk_data]   Unzipping tokenizers/punkt_tab.zip.\n"
          ]
        },
        {
          "output_type": "stream",
          "name": "stdout",
          "text": [
            "Original Text:  The quick brown fox jumps over the lazy dog.\n",
            "Tokenized Words:  ['The', 'quick', 'brown', 'fox', 'jumps', 'over', 'the', 'lazy', 'dog', '.']\n",
            "Stemmed Words:  ['the', 'quick', 'brown', 'fox', 'jump', 'over', 'the', 'lazi', 'dog', '.']\n"
          ]
        }
      ],
      "source": [
        "\n",
        "import nltk\n",
        "nltk.download('punkt_tab')\n",
        "from nltk.tokenize import word_tokenize\n",
        "\n",
        "# input text\n",
        "\n",
        "text = \"The quick brown fox jumps over the lazy dog.\"\n",
        "# tokenizing the text into words\n",
        "\n",
        "words = word_tokenize(text)\n",
        "\n",
        "# applying morphology analysis\n",
        "\n",
        "morph = nltk.PorterStemmer()\n",
        "\n",
        "stemmed_words = [morph.stem(word) for word in words]\n",
        "# output\n",
        "\n",
        "print(\"Original Text: \", text)\n",
        "\n",
        "print(\"Tokenized Words: \", words)\n",
        "\n",
        "print(\"Stemmed Words: \", stemmed_words)\n"
      ]
    },
    {
      "cell_type": "code",
      "source": [],
      "metadata": {
        "id": "8o7sID7V7XHX"
      },
      "id": "8o7sID7V7XHX",
      "execution_count": null,
      "outputs": []
    }
  ],
  "metadata": {
    "colab": {
      "provenance": []
    },
    "language_info": {
      "name": "python"
    },
    "kernelspec": {
      "name": "python3",
      "display_name": "Python 3"
    }
  },
  "nbformat": 4,
  "nbformat_minor": 5
}
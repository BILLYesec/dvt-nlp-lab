{
  "cells": [
    {
      "cell_type": "code",
      "execution_count": 8,
      "id": "b7a40cd6",
      "metadata": {
        "colab": {
          "base_uri": "https://localhost:8080/"
        },
        "id": "b7a40cd6",
        "outputId": "fd654422-88f6-4f01-fa09-e16afa884172"
      },
      "outputs": [
        {
          "output_type": "stream",
          "name": "stdout",
          "text": [
            "The quick brown\n",
            "fox\n",
            "the lazy dog\n"
          ]
        }
      ],
      "source": [
        "import nltk\n",
        "\n",
        "grammar_pattern = r\"\"\"\n",
        "  NP: {<DT>?<JJ>*<NN>}         # chunking Noun Phrases\n",
        "  VP: {<VB.*><NP|PP|CLAUSE>+$} # chunking Verb Phrases\n",
        "  PP: {<IN><NP>}               # chunking Prepositional Phrases\n",
        "  CLAUSE: {<NP><VP>}           # chunking Clauses\n",
        "\"\"\"\n",
        "\n",
        "parser = nltk.RegexpParser(grammar_pattern)\n",
        "\n",
        "s = \"The quick brown fox jumped over the lazy dog.\"\n",
        "\n",
        "tokens = nltk.word_tokenize(s)\n",
        "\n",
        "pos_tags = nltk.pos_tag(tokens)\n",
        "\n",
        "tree = parser.parse(pos_tags)\n",
        "for subtree in tree.subtrees():\n",
        "    if subtree.label() == 'NP':\n",
        "        print(' '.join(word for word, tag in subtree.leaves()))\n"
      ]
    },
    {
      "cell_type": "code",
      "source": [],
      "metadata": {
        "id": "8o7sID7V7XHX"
      },
      "id": "8o7sID7V7XHX",
      "execution_count": null,
      "outputs": []
    }
  ],
  "metadata": {
    "colab": {
      "provenance": []
    },
    "language_info": {
      "name": "python"
    },
    "kernelspec": {
      "name": "python3",
      "display_name": "Python 3"
    }
  },
  "nbformat": 4,
  "nbformat_minor": 5
}